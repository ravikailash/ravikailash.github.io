{
 "cells": [
  {
   "cell_type": "markdown",
   "metadata": {},
   "source": [
    "## Breadth First Search in binary tree\n",
    "\n",
    "##### Inorder traversal is implemented using Morris approach"
   ]
  },
  {
   "cell_type": "code",
   "execution_count": 7,
   "metadata": {
    "collapsed": false
   },
   "outputs": [],
   "source": [
    "class Node:\n",
    "    \"\"\"\n",
    "    Represents the node of a tree\n",
    "    \"\"\"\n",
    "    def __init__(self, node, left=None, right=None):\n",
    "        \"\"\"\n",
    "        :param node: The value of the node\n",
    "        :type node: Union[int, str, float]\n",
    "        :param left: The left treenode\n",
    "        :type left: Union[None, TreeNode]\n",
    "        :param right: The right treenode\n",
    "        :type left: Union[None, TreeNode]\n",
    "        \"\"\"\n",
    "        self.node = node\n",
    "        self.left = left\n",
    "        self.right = right\n",
    "\n",
    "    def get_node(self):\n",
    "        \"\"\"\n",
    "        Function to fecth the node value\n",
    "        \"\"\"\n",
    "        return self.node\n",
    "\n",
    "    def get_children(self, values=False):\n",
    "        \"\"\"\n",
    "        Function to get either the children values or node object\n",
    "        :param values: to choose between the values or node object\n",
    "        :type values: boolean\n",
    "        :rType: Union[List[int], List[float], List[str]]\n",
    "        \"\"\"\n",
    "        children = []\n",
    "        if self.left is not None:\n",
    "            children.append(self.left)\n",
    "        if self.right is not None:\n",
    "            children.append(self.right)\n",
    "\n",
    "        if not values:\n",
    "            return children\n",
    "        return [cur.node for cur in children]\n",
    "\n",
    "    def __str__(self):\n",
    "        \"\"\"\n",
    "        returns the string representation\n",
    "        \"\"\"\n",
    "        return 'TreeNode: ({0},({1},{2}))'.format(self.node, self.left, self.right)\n",
    "\n",
    "    def __repr__(self):\n",
    "        \"\"\"\n",
    "        returns the official string representation\n",
    "        \"\"\"\n",
    "        return '({0},({1},{2}))'.format(self.node, self.left, self.right)"
   ]
  },
  {
   "cell_type": "code",
   "execution_count": 2,
   "metadata": {
    "collapsed": false
   },
   "outputs": [],
   "source": [
    "def make_tree(index=0):\n",
    "    \"\"\"Function to create the trees\n",
    "        1. Full binary tree (7 nodes)\n",
    "        2. Complete binary tree (10 nodes)\n",
    "        3. Perfect binary tree (15 nodes)\n",
    "    Args: \n",
    "        index (int): The index to choose the tree, perfect binary tree(index=0) is set as default\n",
    "        \n",
    "    Returns\n",
    "        Node: Root node of the binary tree. Returns Perfect binary tree by default\n",
    "    \"\"\"\n",
    "\n",
    "    # full binary tree: (7-nodes)\n",
    "    if index == 1:\n",
    "        \"\"\"\n",
    "                 1\n",
    "               ╱   ╲\n",
    "              2       3\n",
    "            ╱  ╲\n",
    "           4     5\n",
    "         ╱  ╲\n",
    "        6    7\n",
    "        \"\"\"\n",
    "        print(\"Rendering full binary tree with 7 nodes...\")\n",
    "        t1 = Node(4, Node(6), Node(7))\n",
    "        t2 = Node(2, t1, Node(5))\n",
    "        t = Node(1, t2, Node(3))\n",
    "        return t\n",
    "\n",
    "    # complete binary tree: (10-nodes)\n",
    "    elif index == 2:\n",
    "        \"\"\"\n",
    "                    1\n",
    "                 ╱    ╲\n",
    "                2        3\n",
    "             ╱  ╲     ╱  ╲\n",
    "            4      5   6     7\n",
    "          ╱╲    ╱\n",
    "         8   9  0\n",
    "        \"\"\"\n",
    "        print(\"Rendering complete binary tree with 10 nodes...\")\n",
    "        t1 = Node(4, Node(8), Node(9))\n",
    "        t2 = Node(2, t1, Node(5, Node(0)))\n",
    "        t3 = Node(3, Node(6), Node(7))\n",
    "        t = Node(1, t2, t3)\n",
    "        return t\n",
    "\n",
    "    # perfect binary tree: (15-nodes)\n",
    "    else:\n",
    "        \"\"\"\n",
    "                    1\n",
    "                  ╱  ╲\n",
    "                ╱      ╲\n",
    "              2           3\n",
    "            ╱  ╲        ╱ ╲\n",
    "          4      5       6     7\n",
    "        ╱ ╲   ╱ ╲   ╱ ╲   ╱╲\n",
    "        8   9  0   1  2   3  4    5\n",
    "        \"\"\"\n",
    "        print(\"Rendering perfect binary tree with 15 nodes...\")\n",
    "        t1 = Node(4, Node(8), Node(9))\n",
    "        t2 = Node(5, Node(0), Node(1))\n",
    "        t3 = Node(6, Node(2), Node(3))\n",
    "        t4 = Node(7, Node(4), Node(5))\n",
    "        t5 = Node(2, t1, t2)\n",
    "        t6 = Node(3, t3, t4)\n",
    "        t = Node(1, t5, t6)\n",
    "        return t"
   ]
  },
  {
   "cell_type": "code",
   "execution_count": 3,
   "metadata": {
    "collapsed": true
   },
   "outputs": [],
   "source": [
    "def morris_traversal(tree, inorder_path=None):\n",
    "    \"\"\"\n",
    "    Function to return the inorder traversal of a binary tree\n",
    "    :param tree: The node of a binary tree\n",
    "    :param inorder_path: The path of the inorder traversal\n",
    "    \n",
    "    :type tree: Node\n",
    "    :type inorder_path: List\n",
    "\n",
    "    :rType: List\n",
    "    \"\"\"\n",
    "\n",
    "    # Create the path if one doesn't exist\n",
    "    if inorder_path is None:\n",
    "        inorder_path = []\n",
    "\n",
    "    stack = []\n",
    "    # recurse until the left node is null\n",
    "    def push_left(node):\n",
    "        while node is not None:\n",
    "            stack.append(node)\n",
    "            node = node.left\n",
    "\n",
    "    push_left(tree)\n",
    "    while stack:\n",
    "        current = stack.pop()\n",
    "        inorder_path.append(current.node)\n",
    "        if current.right is not None:\n",
    "            push_left(current.right)\n",
    "    return inorder_path"
   ]
  },
  {
   "cell_type": "code",
   "execution_count": 4,
   "metadata": {
    "collapsed": true
   },
   "outputs": [],
   "source": [
    "def breadth_first_search(root, bfs_path=None):\n",
    "    \"\"\"\n",
    "    Function to return the breadth first search of a binary tree\n",
    "    :param root: The root node of the binary tree\n",
    "    :param bfs_path: The path of the bfs\n",
    "\n",
    "    :type root: Node\n",
    "    :type bfs_path: List\n",
    "\n",
    "    :rType: List\n",
    "    \"\"\"\n",
    "\n",
    "    # Create the path if it doesn't exist\n",
    "    if bfs_path is None: \n",
    "        bfs_path = []\n",
    "\n",
    "    # Queue to store the current node's children\n",
    "    queue = [root]\n",
    "    while queue != []:\n",
    "        current = queue.pop(0)\n",
    "        bfs_path.append(current.node)\n",
    "        queue.extend(current.get_children())\n",
    "\n",
    "    return bfs_path"
   ]
  },
  {
   "cell_type": "code",
   "execution_count": 8,
   "metadata": {
    "collapsed": false
   },
   "outputs": [
    {
     "name": "stdout",
     "output_type": "stream",
     "text": [
      "Rendering perfect binary tree with 15 nodes...\n",
      "Inorder traversal:  [8, 4, 9, 2, 0, 5, 1, 1, 2, 6, 3, 3, 4, 7, 5]\n"
     ]
    }
   ],
   "source": [
    "tree = make_tree()\n",
    "# print(tree)\n",
    "print('Inorder traversal: ', morris_traversal(tree))"
   ]
  },
  {
   "cell_type": "code",
   "execution_count": 9,
   "metadata": {
    "collapsed": false
   },
   "outputs": [
    {
     "name": "stdout",
     "output_type": "stream",
     "text": [
      "Breadth First Search:  [1, 2, 3, 4, 5, 6, 7, 8, 9, 0, 1, 2, 3, 4, 5]\n"
     ]
    }
   ],
   "source": [
    "print('Breadth First Search: ', breadth_first_search(tree))"
   ]
  },
  {
   "cell_type": "code",
   "execution_count": null,
   "metadata": {
    "collapsed": true
   },
   "outputs": [],
   "source": []
  }
 ],
 "metadata": {
  "anaconda-cloud": {},
  "kernelspec": {
   "display_name": "Python [conda root]",
   "language": "python",
   "name": "conda-root-py"
  },
  "language_info": {
   "codemirror_mode": {
    "name": "ipython",
    "version": 3
   },
   "file_extension": ".py",
   "mimetype": "text/x-python",
   "name": "python",
   "nbconvert_exporter": "python",
   "pygments_lexer": "ipython3",
   "version": "3.5.2"
  }
 },
 "nbformat": 4,
 "nbformat_minor": 2
}
